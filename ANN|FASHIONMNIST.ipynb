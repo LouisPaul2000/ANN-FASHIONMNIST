{
  "nbformat": 4,
  "nbformat_minor": 0,
  "metadata": {
    "colab": {
      "name": "ANN|FASHIONMNIST.ipynb",
      "provenance": [],
      "collapsed_sections": [],
      "authorship_tag": "ABX9TyOf0OdaMsg+khSEJ+6dbS7v",
      "include_colab_link": true
    },
    "kernelspec": {
      "name": "python3",
      "display_name": "Python 3"
    }
  },
  "cells": [
    {
      "cell_type": "markdown",
      "metadata": {
        "id": "view-in-github",
        "colab_type": "text"
      },
      "source": [
        "<a href=\"https://colab.research.google.com/github/LouisPaul2000/ANN-FASHIONMNIST/blob/master/ANN%7CFASHIONMNIST.ipynb\" target=\"_parent\"><img src=\"https://colab.research.google.com/assets/colab-badge.svg\" alt=\"Open In Colab\"/></a>"
      ]
    },
    {
      "cell_type": "code",
      "metadata": {
        "id": "wnPqCpU1WeyX",
        "colab_type": "code",
        "colab": {}
      },
      "source": [
        "import keras as kr\n",
        "from keras.models import Sequential,Model,Input\n",
        "from keras.layers import Reshape,Dense,Dropout,Conv2D,BatchNormalization,Flatten,Activation\n",
        "from keras.activations import relu\n",
        "import matplotlib.pyplot as plt\n",
        "import numpy as np\n",
        "from keras.optimizers import Adam\n",
        "from keras.layers.advanced_activations import LeakyReLU\n",
        "import random\n",
        "from keras.utils import plot_model\n",
        "from keras import regularizers\n",
        "from matplotlib import pyplot\n",
        "from keras.datasets import fashion_mnist\n",
        "import numpy as np\n"
      ],
      "execution_count": null,
      "outputs": []
    },
    {
      "cell_type": "code",
      "metadata": {
        "id": "p73Dg7piLiVP",
        "colab_type": "code",
        "colab": {}
      },
      "source": [
        "num_classes=10\n",
        "epochs=25\n",
        "batch_size=32"
      ],
      "execution_count": null,
      "outputs": []
    },
    {
      "cell_type": "code",
      "metadata": {
        "id": "gwmCZO-pHva5",
        "colab_type": "code",
        "colab": {}
      },
      "source": [
        "(xtrain,ytrain),(xtest,ytest) = fashion_mnist.load_data()\n"
      ],
      "execution_count": null,
      "outputs": []
    },
    {
      "cell_type": "code",
      "metadata": {
        "id": "TcX2-c0hIC4k",
        "colab_type": "code",
        "colab": {
          "base_uri": "https://localhost:8080/",
          "height": 34
        },
        "outputId": "b613d514-2053-4268-bc3d-e6b90d7e0c74"
      },
      "source": [
        "xtrain.shape"
      ],
      "execution_count": null,
      "outputs": [
        {
          "output_type": "execute_result",
          "data": {
            "text/plain": [
              "(60000, 28, 28)"
            ]
          },
          "metadata": {
            "tags": []
          },
          "execution_count": 103
        }
      ]
    },
    {
      "cell_type": "code",
      "metadata": {
        "id": "GDcDK6UBIXV8",
        "colab_type": "code",
        "colab": {
          "base_uri": "https://localhost:8080/",
          "height": 34
        },
        "outputId": "4fd601c6-2bff-4c07-8994-0862766bc302"
      },
      "source": [
        "xtest.shape"
      ],
      "execution_count": null,
      "outputs": [
        {
          "output_type": "execute_result",
          "data": {
            "text/plain": [
              "(10000, 28, 28)"
            ]
          },
          "metadata": {
            "tags": []
          },
          "execution_count": 104
        }
      ]
    },
    {
      "cell_type": "code",
      "metadata": {
        "id": "Lg3SexWFIevI",
        "colab_type": "code",
        "colab": {}
      },
      "source": [
        ""
      ],
      "execution_count": null,
      "outputs": []
    },
    {
      "cell_type": "code",
      "metadata": {
        "id": "ez9l3AzvWzF_",
        "colab_type": "code",
        "colab": {
          "base_uri": "https://localhost:8080/",
          "height": 268
        },
        "outputId": "ec584e8b-5955-434f-c66b-5158203b1ed0"
      },
      "source": [
        "\n",
        "for i in range(9):\n",
        "\tpyplot.subplot(330 + 1 + i)\n",
        "\tpyplot.imshow(xtrain[i], cmap=pyplot.get_cmap('Accent'))\n",
        "pyplot.show()"
      ],
      "execution_count": null,
      "outputs": [
        {
          "output_type": "display_data",
          "data": {
            "image/png": "[encoded data removed]",
            "text/plain": [
              "<Figure size 432x288 with 9 Axes>"
            ]
          },
          "metadata": {
            "tags": [],
            "needs_background": "light"
          }
        }
      ]
    },
    {
      "cell_type": "code",
      "metadata": {
        "id": "MtwDpyx2W8op",
        "colab_type": "code",
        "colab": {
          "base_uri": "https://localhost:8080/",
          "height": 34
        },
        "outputId": "f3c2ef8a-a266-4ac1-a776-462a996c50a7"
      },
      "source": [
        "ytrain"
      ],
      "execution_count": null,
      "outputs": [
        {
          "output_type": "execute_result",
          "data": {
            "text/plain": [
              "array([9, 0, 0, ..., 3, 0, 5], dtype=uint8)"
            ]
          },
          "metadata": {
            "tags": []
          },
          "execution_count": 106
        }
      ]
    },
    {
      "cell_type": "code",
      "metadata": {
        "id": "VI9utZrKXFPs",
        "colab_type": "code",
        "colab": {
          "base_uri": "https://localhost:8080/",
          "height": 34
        },
        "outputId": "f30922d3-4844-4bdc-dd38-82d95fffcada"
      },
      "source": [
        "np.unique(ytrain)"
      ],
      "execution_count": null,
      "outputs": [
        {
          "output_type": "execute_result",
          "data": {
            "text/plain": [
              "array([0, 1, 2, 3, 4, 5, 6, 7, 8, 9], dtype=uint8)"
            ]
          },
          "metadata": {
            "tags": []
          },
          "execution_count": 107
        }
      ]
    },
    {
      "cell_type": "code",
      "metadata": {
        "id": "KOLBcxb0OxcN",
        "colab_type": "code",
        "colab": {}
      },
      "source": [
        "xtrain=xtrain.reshape(60000,784)\n",
        "xtest=xtest.reshape(10000,784)"
      ],
      "execution_count": null,
      "outputs": []
    },
    {
      "cell_type": "code",
      "metadata": {
        "id": "nBOttOgNKXqX",
        "colab_type": "code",
        "colab": {}
      },
      "source": [
        "xtrain=xtrain.astype(\"float32\")\n",
        "xtest=xtest.astype(\"float32\")"
      ],
      "execution_count": null,
      "outputs": []
    },
    {
      "cell_type": "code",
      "metadata": {
        "id": "pSoeK-c3KbDf",
        "colab_type": "code",
        "colab": {}
      },
      "source": [
        "ytrain=kr.utils.to_categorical(ytrain)\n",
        "ytest=kr.utils.to_categorical(ytest)"
      ],
      "execution_count": null,
      "outputs": []
    },
    {
      "cell_type": "code",
      "metadata": {
        "id": "aP0SYqo2OOo5",
        "colab_type": "code",
        "colab": {
          "base_uri": "https://localhost:8080/",
          "height": 138
        },
        "outputId": "66c6b753-d181-4058-f12a-cbef07d5a81d"
      },
      "source": [
        "xtrain"
      ],
      "execution_count": null,
      "outputs": [
        {
          "output_type": "execute_result",
          "data": {
            "text/plain": [
              "array([[0., 0., 0., ..., 0., 0., 0.],\n",
              "       [0., 0., 0., ..., 0., 0., 0.],\n",
              "       [0., 0., 0., ..., 0., 0., 0.],\n",
              "       ...,\n",
              "       [0., 0., 0., ..., 0., 0., 0.],\n",
              "       [0., 0., 0., ..., 0., 0., 0.],\n",
              "       [0., 0., 0., ..., 0., 0., 0.]], dtype=float32)"
            ]
          },
          "metadata": {
            "tags": []
          },
          "execution_count": 111
        }
      ]
    },
    {
      "cell_type": "code",
      "metadata": {
        "id": "w_oD0V-JKlRm",
        "colab_type": "code",
        "colab": {
          "base_uri": "https://localhost:8080/",
          "height": 138
        },
        "outputId": "7731d9c9-b70b-4123-b6ca-e13b398d0d3d"
      },
      "source": [
        "ytrain"
      ],
      "execution_count": null,
      "outputs": [
        {
          "output_type": "execute_result",
          "data": {
            "text/plain": [
              "array([[0., 0., 0., ..., 0., 0., 1.],\n",
              "       [1., 0., 0., ..., 0., 0., 0.],\n",
              "       [1., 0., 0., ..., 0., 0., 0.],\n",
              "       ...,\n",
              "       [0., 0., 0., ..., 0., 0., 0.],\n",
              "       [1., 0., 0., ..., 0., 0., 0.],\n",
              "       [0., 0., 0., ..., 0., 0., 0.]], dtype=float32)"
            ]
          },
          "metadata": {
            "tags": []
          },
          "execution_count": 112
        }
      ]
    },
    {
      "cell_type": "code",
      "metadata": {
        "id": "VOQv_pH6Knoc",
        "colab_type": "code",
        "colab": {
          "base_uri": "https://localhost:8080/",
          "height": 34
        },
        "outputId": "b5f6cb12-2369-4ee3-f2cd-010400ffb6fe"
      },
      "source": [
        "ytrain.shape"
      ],
      "execution_count": null,
      "outputs": [
        {
          "output_type": "execute_result",
          "data": {
            "text/plain": [
              "(60000, 10)"
            ]
          },
          "metadata": {
            "tags": []
          },
          "execution_count": 113
        }
      ]
    },
    {
      "cell_type": "code",
      "metadata": {
        "id": "MoeEEV9gKwEf",
        "colab_type": "code",
        "colab": {}
      },
      "source": [
        "model  = kr.models.Sequential()#Dangling pointer\n",
        "model.add(kr.layers.Dense(512 ,activation=\"sigmoid\" , input_shape=(784,)))\n",
        "model.add(kr.layers.Dense(512 , activation=\"sigmoid\" ))\n",
        "model.add(kr.layers.Dense(10, activation=\"softmax\" ))\n",
        "\n"
      ],
      "execution_count": null,
      "outputs": []
    },
    {
      "cell_type": "code",
      "metadata": {
        "id": "zE9GY9RdK1fm",
        "colab_type": "code",
        "colab": {
          "base_uri": "https://localhost:8080/",
          "height": 260
        },
        "outputId": "3ad5f554-b222-424d-d231-85ad098df663"
      },
      "source": [
        "model.summary()"
      ],
      "execution_count": null,
      "outputs": [
        {
          "output_type": "stream",
          "text": [
            "Model: \"sequential_16\"\n",
            "_________________________________________________________________\n",
            "Layer (type)                 Output Shape              Param #   \n",
            "=================================================================\n",
            "dense_26 (Dense)             (None, 512)               401920    \n",
            "_________________________________________________________________\n",
            "dense_27 (Dense)             (None, 512)               262656    \n",
            "_________________________________________________________________\n",
            "dense_28 (Dense)             (None, 10)                5130      \n",
            "=================================================================\n",
            "Total params: 669,706\n",
            "Trainable params: 669,706\n",
            "Non-trainable params: 0\n",
            "_________________________________________________________________\n"
          ],
          "name": "stdout"
        }
      ]
    },
    {
      "cell_type": "code",
      "metadata": {
        "id": "Ycyt9iYsK3lZ",
        "colab_type": "code",
        "colab": {}
      },
      "source": [
        "model.compile(optimizer=\"adam\",loss=\"categorical_crossentropy\",metrics=[\"accuracy\"])"
      ],
      "execution_count": null,
      "outputs": []
    },
    {
      "cell_type": "code",
      "metadata": {
        "id": "1Nz3QhzYK_4d",
        "colab_type": "code",
        "colab": {
          "base_uri": "https://localhost:8080/",
          "height": 884
        },
        "outputId": "c0e7592c-e37b-464b-fc53-142f86b8c4f7"
      },
      "source": [
        "hist=model.fit(xtrain , ytrain , epochs=epochs , batch_size=batch_size )"
      ],
      "execution_count": null,
      "outputs": [
        {
          "output_type": "stream",
          "text": [
            "Epoch 1/25\n",
            "60000/60000 [==============================] - 20s 329us/step - loss: 0.8270 - accuracy: 0.6826\n",
            "Epoch 2/25\n",
            "60000/60000 [==============================] - 20s 326us/step - loss: 0.7668 - accuracy: 0.7017\n",
            "Epoch 3/25\n",
            "60000/60000 [==============================] - 19s 322us/step - loss: 0.7335 - accuracy: 0.7134\n",
            "Epoch 4/25\n",
            "60000/60000 [==============================] - 19s 324us/step - loss: 0.7180 - accuracy: 0.7128\n",
            "Epoch 5/25\n",
            "60000/60000 [==============================] - 19s 324us/step - loss: 0.6831 - accuracy: 0.7254\n",
            "Epoch 6/25\n",
            "60000/60000 [==============================] - 19s 325us/step - loss: 0.6862 - accuracy: 0.7246\n",
            "Epoch 7/25\n",
            "60000/60000 [==============================] - 19s 323us/step - loss: 0.6758 - accuracy: 0.7282\n",
            "Epoch 8/25\n",
            "60000/60000 [==============================] - 20s 326us/step - loss: 0.6538 - accuracy: 0.7407\n",
            "Epoch 9/25\n",
            "60000/60000 [==============================] - 20s 333us/step - loss: 0.6513 - accuracy: 0.7403\n",
            "Epoch 10/25\n",
            "60000/60000 [==============================] - 19s 322us/step - loss: 0.6292 - accuracy: 0.7571\n",
            "Epoch 11/25\n",
            "60000/60000 [==============================] - 19s 324us/step - loss: 0.6229 - accuracy: 0.7613\n",
            "Epoch 12/25\n",
            "60000/60000 [==============================] - 19s 324us/step - loss: 0.6143 - accuracy: 0.7608\n",
            "Epoch 13/25\n",
            "60000/60000 [==============================] - 19s 323us/step - loss: 0.6037 - accuracy: 0.7640\n",
            "Epoch 14/25\n",
            "60000/60000 [==============================] - 19s 325us/step - loss: 0.6070 - accuracy: 0.7680\n",
            "Epoch 15/25\n",
            "60000/60000 [==============================] - 19s 325us/step - loss: 0.5933 - accuracy: 0.7765\n",
            "Epoch 16/25\n",
            "60000/60000 [==============================] - 20s 326us/step - loss: 0.5832 - accuracy: 0.7761\n",
            "Epoch 17/25\n",
            "60000/60000 [==============================] - 19s 325us/step - loss: 0.5990 - accuracy: 0.7649\n",
            "Epoch 18/25\n",
            "60000/60000 [==============================] - 20s 327us/step - loss: 0.5885 - accuracy: 0.7704\n",
            "Epoch 19/25\n",
            "60000/60000 [==============================] - 19s 323us/step - loss: 0.5668 - accuracy: 0.7827\n",
            "Epoch 20/25\n",
            "60000/60000 [==============================] - 20s 326us/step - loss: 0.5646 - accuracy: 0.7807\n",
            "Epoch 21/25\n",
            "60000/60000 [==============================] - 19s 324us/step - loss: 0.5723 - accuracy: 0.7782\n",
            "Epoch 22/25\n",
            "60000/60000 [==============================] - 20s 326us/step - loss: 0.5721 - accuracy: 0.7743\n",
            "Epoch 23/25\n",
            "60000/60000 [==============================] - 19s 323us/step - loss: 0.5558 - accuracy: 0.7893\n",
            "Epoch 24/25\n",
            "60000/60000 [==============================] - 22s 364us/step - loss: 0.5451 - accuracy: 0.7953\n",
            "Epoch 25/25\n",
            "60000/60000 [==============================] - 21s 343us/step - loss: 0.5362 - accuracy: 0.7987\n"
          ],
          "name": "stdout"
        }
      ]
    },
    {
      "cell_type": "code",
      "metadata": {
        "id": "FYOnwq0QPZ-P",
        "colab_type": "code",
        "colab": {}
      },
      "source": [
        "model.save(\"model.h5\")\n"
      ],
      "execution_count": null,
      "outputs": []
    },
    {
      "cell_type": "code",
      "metadata": {
        "id": "vrNamE7lPjaG",
        "colab_type": "code",
        "colab": {}
      },
      "source": [
        "model.load_weights(\"model.h5\")\n"
      ],
      "execution_count": null,
      "outputs": []
    },
    {
      "cell_type": "code",
      "metadata": {
        "id": "5dvk1BAcPmZw",
        "colab_type": "code",
        "colab": {
          "base_uri": "https://localhost:8080/",
          "height": 282
        },
        "outputId": "856d2343-ea07-4660-ee10-6f626fec4aa1"
      },
      "source": [
        "plt.plot(hist.history[\"accuracy\"])\n"
      ],
      "execution_count": null,
      "outputs": [
        {
          "output_type": "execute_result",
          "data": {
            "text/plain": [
              "[<matplotlib.lines.Line2D at 0x7fdcee9f0e80>]"
            ]
          },
          "metadata": {
            "tags": []
          },
          "execution_count": 119
        },
        {
          "output_type": "display_data",
          "data": {
            "image/png": "[encoded data removed]",
            "text/plain": [
              "<Figure size 432x288 with 1 Axes>"
            ]
          },
          "metadata": {
            "tags": [],
            "needs_background": "light"
          }
        }
      ]
    },
    {
      "cell_type": "code",
      "metadata": {
        "id": "mrVslKDeStNA",
        "colab_type": "code",
        "colab": {
          "base_uri": "https://localhost:8080/",
          "height": 282
        },
        "outputId": "4318735c-db67-4925-f8d1-7c603fc03f3c"
      },
      "source": [
        "plt.plot(hist.history[\"loss\"])"
      ],
      "execution_count": null,
      "outputs": [
        {
          "output_type": "execute_result",
          "data": {
            "text/plain": [
              "[<matplotlib.lines.Line2D at 0x7fdceeb8a9b0>]"
            ]
          },
          "metadata": {
            "tags": []
          },
          "execution_count": 120
        },
        {
          "output_type": "display_data",
          "data": {
            "image/png": "[encoded data removed]",
            "text/plain": [
              "<Figure size 432x288 with 1 Axes>"
            ]
          },
          "metadata": {
            "tags": [],
            "needs_background": "light"
          }
        }
      ]
    },
    {
      "cell_type": "code",
      "metadata": {
        "id": "oGScYoiXSvg3",
        "colab_type": "code",
        "colab": {
          "base_uri": "https://localhost:8080/",
          "height": 282
        },
        "outputId": "ab2b0e12-7f48-4ce0-f9b6-378550e24704"
      },
      "source": [
        "plt.plot(hist.history[\"accuracy\"])\n",
        "plt.plot(hist.history[\"loss\"])\n"
      ],
      "execution_count": null,
      "outputs": [
        {
          "output_type": "execute_result",
          "data": {
            "text/plain": [
              "[<matplotlib.lines.Line2D at 0x7fdceeb4c2b0>]"
            ]
          },
          "metadata": {
            "tags": []
          },
          "execution_count": 121
        },
        {
          "output_type": "display_data",
          "data": {
            "image/png": "[encoded data removed]",
            "text/plain": [
              "<Figure size 432x288 with 1 Axes>"
            ]
          },
          "metadata": {
            "tags": [],
            "needs_background": "light"
          }
        }
      ]
    }
  ]
}